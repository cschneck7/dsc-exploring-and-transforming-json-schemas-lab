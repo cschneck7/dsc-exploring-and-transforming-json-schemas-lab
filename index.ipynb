{
 "cells": [
  {
   "cell_type": "markdown",
   "metadata": {},
   "source": [
    "# Exploring and Transforming JSON Schemas - Lab"
   ]
  },
  {
   "cell_type": "markdown",
   "metadata": {},
   "source": [
    "# Introduction\n",
    "\n",
    "In this lab, you'll practice exploring a JSON file whose structure and schema is unknown to you. We will provide you with limited information, and you will explore the dataset to answer the specified question."
   ]
  },
  {
   "cell_type": "markdown",
   "metadata": {},
   "source": [
    "## Objectives\n",
    "You will be able to:\n",
    "* Use the JSON module to load and parse JSON documents\n",
    "* Explore and extract data using unknown JSON schemas\n",
    "* Convert JSON to a pandas dataframe"
   ]
  },
  {
   "cell_type": "markdown",
   "metadata": {},
   "source": [
    "## Your Task: Create a Bar Graph of the Top 10 States with the Highest Asthma Rates for Adults Age 18+\n",
    "\n",
    "The information you need to create this graph is located in `disease_data.json`. It contains both data and metadata.\n",
    "\n",
    "You are given the following codebook/data dictionary:\n",
    "\n",
    "* The actual data values are associated with the key `'DataValue'`\n",
    "* The state names are associated with the key `'LocationDesc'`\n",
    "* To filter to the appropriate records, make sure:\n",
    "  * The `'Question'` is `'Current asthma prevalence among adults aged >= 18 years'`\n",
    "  * The `'StratificationCategoryID1'` is `'OVERALL'`\n",
    "  * The `'DataValueTypeID'` is `'CRDPREV'`\n",
    "  * The `'LocationDesc'` is not `'United States'`\n",
    "  \n",
    "The provided JSON file contains both data and metadata, and you will need to parse the metadata in order to understand the meanings of the values in the data.\n",
    "\n",
    "No further information about the structure of this file is provided."
   ]
  },
  {
   "cell_type": "markdown",
   "metadata": {},
   "source": [
    "## Load the JSON File\n",
    "\n",
    "Load the data from the file `disease_data.json` into a variable `data`."
   ]
  },
  {
   "cell_type": "code",
   "execution_count": 1,
   "metadata": {},
   "outputs": [],
   "source": [
    "# Your code here \n",
    "import json\n",
    "\n",
    "with open('disease_data.json') as f:\n",
    "    data = json.load(f)"
   ]
  },
  {
   "cell_type": "markdown",
   "metadata": {},
   "source": [
    "## Explore the Overall Structure\n",
    "\n",
    "What is the overall data type of `data`?"
   ]
  },
  {
   "cell_type": "code",
   "execution_count": 2,
   "metadata": {},
   "outputs": [
    {
     "data": {
      "text/plain": [
       "dict"
      ]
     },
     "execution_count": 2,
     "metadata": {},
     "output_type": "execute_result"
    }
   ],
   "source": [
    "# Your code here\n",
    "type(data)"
   ]
  },
  {
   "cell_type": "markdown",
   "metadata": {},
   "source": [
    "What are the keys?"
   ]
  },
  {
   "cell_type": "code",
   "execution_count": 3,
   "metadata": {},
   "outputs": [
    {
     "data": {
      "text/plain": [
       "dict_keys(['meta', 'data'])"
      ]
     },
     "execution_count": 3,
     "metadata": {},
     "output_type": "execute_result"
    }
   ],
   "source": [
    "# Your code here\n",
    "data.keys()"
   ]
  },
  {
   "cell_type": "markdown",
   "metadata": {},
   "source": [
    "What are the data types associates with those keys?"
   ]
  },
  {
   "cell_type": "code",
   "execution_count": 7,
   "metadata": {},
   "outputs": [
    {
     "data": {
      "text/plain": [
       "list"
      ]
     },
     "execution_count": 7,
     "metadata": {},
     "output_type": "execute_result"
    }
   ],
   "source": [
    "# Your code here (data)\n",
    "type(data['data'])"
   ]
  },
  {
   "cell_type": "code",
   "execution_count": 8,
   "metadata": {},
   "outputs": [
    {
     "data": {
      "text/plain": [
       "dict"
      ]
     },
     "execution_count": 8,
     "metadata": {},
     "output_type": "execute_result"
    }
   ],
   "source": [
    "# Your code here (metadata)\n",
    "type(data['meta'])"
   ]
  },
  {
   "cell_type": "markdown",
   "metadata": {},
   "source": [
    "Perform additional exploration to understand the contents of these values. For dictionaries, what are their keys? For lists, what is the length, and what does the first element look like?"
   ]
  },
  {
   "cell_type": "code",
   "execution_count": 15,
   "metadata": {
    "scrolled": true
   },
   "outputs": [
    {
     "name": "stdout",
     "output_type": "stream",
     "text": [
      "data list length is 42\n",
      "\n",
      "[1, 'FF49C41F-CE8D-46C4-9164-653B1227CF6F', 1, 1527194521, '959778', 1527194521, '959778', None, '2016', '2016', 'US', 'United States', 'BRFSS', 'Alcohol', 'Binge drinking prevalence among adults aged >= 18 years', None, '%', 'Crude Prevalence', '16.9', '16.9', '*', '50 States + DC: US Median', '16', '18', 'Overall', 'Overall', None, None, None, None, [None, None, None, None, None], None, '59', 'ALC', 'ALC2_2', 'CRDPREV', 'OVERALL', 'OVR', None, None, None, None]\n"
     ]
    }
   ],
   "source": [
    "# Your code here (add additional cells as needed)\n",
    "print('data list length is ' + str(len(data['data'][0])))\n",
    "print()\n",
    "print(data['data'][0])"
   ]
  },
  {
   "cell_type": "code",
   "execution_count": 16,
   "metadata": {},
   "outputs": [
    {
     "name": "stdout",
     "output_type": "stream",
     "text": [
      "view <class 'dict'>\n"
     ]
    }
   ],
   "source": [
    "for key in data['meta'].keys():\n",
    "    print(key, type(data['meta'][key]))"
   ]
  },
  {
   "cell_type": "code",
   "execution_count": 18,
   "metadata": {},
   "outputs": [
    {
     "name": "stdout",
     "output_type": "stream",
     "text": [
      "id <class 'str'>\n",
      "name <class 'str'>\n",
      "attribution <class 'str'>\n",
      "attributionLink <class 'str'>\n",
      "averageRating <class 'int'>\n",
      "category <class 'str'>\n",
      "createdAt <class 'int'>\n",
      "description <class 'str'>\n",
      "displayType <class 'str'>\n",
      "downloadCount <class 'int'>\n",
      "hideFromCatalog <class 'bool'>\n",
      "hideFromDataJson <class 'bool'>\n",
      "indexUpdatedAt <class 'int'>\n",
      "licenseId <class 'str'>\n",
      "newBackend <class 'bool'>\n",
      "numberOfComments <class 'int'>\n",
      "oid <class 'int'>\n",
      "provenance <class 'str'>\n",
      "publicationAppendEnabled <class 'bool'>\n",
      "publicationDate <class 'int'>\n",
      "publicationGroup <class 'int'>\n",
      "publicationStage <class 'str'>\n",
      "rowClass <class 'str'>\n",
      "rowsUpdatedAt <class 'int'>\n",
      "rowsUpdatedBy <class 'str'>\n",
      "tableId <class 'int'>\n",
      "totalTimesRated <class 'int'>\n",
      "viewCount <class 'int'>\n",
      "viewLastModified <class 'int'>\n",
      "viewType <class 'str'>\n",
      "columns <class 'list'>\n",
      "grants <class 'list'>\n",
      "license <class 'dict'>\n",
      "metadata <class 'dict'>\n",
      "owner <class 'dict'>\n",
      "query <class 'dict'>\n",
      "rights <class 'list'>\n",
      "tableAuthor <class 'dict'>\n",
      "tags <class 'list'>\n",
      "flags <class 'list'>\n"
     ]
    }
   ],
   "source": [
    "for key in data['meta']['view'].keys():\n",
    "    print(key, type(data['meta']['view'][key]))"
   ]
  },
  {
   "cell_type": "markdown",
   "metadata": {},
   "source": [
    "As you likely identified, we have a list of lists forming the `'data'`. In order to make sense of that list of lists, we need to find the meaning of each index, i.e. the names of the columns.\n",
    "\n",
    "## Identify the Column Names\n",
    "\n",
    "Look through the metadata to find the *names* of the columns, and assign that variable to `column_names`. This should be a list of strings. (If you just get the values associated with the `'columns'` key, you will have a list of dictionaries, not a list of strings.)"
   ]
  },
  {
   "cell_type": "code",
   "execution_count": 21,
   "metadata": {},
   "outputs": [
    {
     "data": {
      "text/plain": [
       "42"
      ]
     },
     "execution_count": 21,
     "metadata": {},
     "output_type": "execute_result"
    }
   ],
   "source": [
    "# Your code here (add additional cells as needed)\n",
    "columns = data['meta']['view']['columns']\n",
    "\n",
    "column_names = [column['name'] for column in columns]\n",
    "\n",
    "len(column_names)"
   ]
  },
  {
   "cell_type": "markdown",
   "metadata": {},
   "source": [
    "The following code checks that you have the correct column names:"
   ]
  },
  {
   "cell_type": "code",
   "execution_count": 22,
   "metadata": {},
   "outputs": [],
   "source": [
    "# Run this cell without changes\n",
    "\n",
    "# 42 total columns\n",
    "assert len(column_names) == 42\n",
    "\n",
    "# Each name should be a string, not a dict\n",
    "assert type(column_names[0]) == str and type(column_names[-1]) == str\n",
    "\n",
    "# Check that we have some specific strings\n",
    "assert \"DataValue\" in column_names\n",
    "assert \"LocationDesc\" in column_names\n",
    "assert \"Question\" in column_names\n",
    "assert \"StratificationCategoryID1\" in column_names\n",
    "assert \"DataValueTypeID\" in column_names"
   ]
  },
  {
   "cell_type": "markdown",
   "metadata": {},
   "source": [
    "## Filter Rows Based on Columns\n",
    "\n",
    "Recall that we only want to include records where:\n",
    "\n",
    "* The `'Question'` is `'Current asthma prevalence among adults aged >= 18 years'`\n",
    "* The `'StratificationCategoryID1'` is `'OVERALL'`\n",
    "* The `'DataValueTypeID'` is `'CRDPREV'`\n",
    "* The `'LocationDesc'` is not `'United States'`\n",
    "\n",
    "Combining knowledge of the data and metadata, filter out the rows of data that are not relevant.\n",
    "\n",
    "(You may find the `pandas` library useful here.)"
   ]
  },
  {
   "cell_type": "code",
   "execution_count": 61,
   "metadata": {},
   "outputs": [],
   "source": [
    "# Your code here (add additional cells as needed)\n",
    "import pandas as pd\n",
    "\n",
    "df = pd.DataFrame(data['data'], columns = column_names)\n",
    "\n",
    "# Comment to self: can't use same conditional syntax as basic python for pandas library\n",
    "# and  = &, or = |\n",
    "df_filtered = df[(df['Question'] == 'Current asthma prevalence among adults aged >= 18 years') \n",
    "   & (df['StratificationCategoryID1'] == 'OVERALL')\n",
    "   & (df['DataValueTypeID'] == 'CRDPREV')\n",
    "   & (df['LocationDesc'] != 'United States')]\n",
    "\n"
   ]
  },
  {
   "cell_type": "markdown",
   "metadata": {},
   "source": [
    "You should have 54 records after filtering.\n",
    "\n",
    "## Extract the Attributes Required for Plotting\n",
    "\n",
    "For each record, the only information we actually need for the graph is the `'DataValue'` and `'LocationDesc'`. Create a list of records that only contains these two attributes.\n",
    "\n",
    "Also, make sure that the data values are numbers, not strings."
   ]
  },
  {
   "cell_type": "code",
   "execution_count": 86,
   "metadata": {},
   "outputs": [
    {
     "data": {
      "text/plain": [
       "[[9.7, 'Alabama'],\n",
       " [8.8, 'Alaska'],\n",
       " [9.4, 'Arizona'],\n",
       " [8.5, 'Arkansas'],\n",
       " [7.8, 'California'],\n",
       " [8.8, 'Colorado'],\n",
       " [10.5, 'Connecticut'],\n",
       " [8.5, 'Delaware'],\n",
       " [9.8, 'District of Columbia'],\n",
       " [6.7, 'Florida'],\n",
       " [8.5, 'Georgia'],\n",
       " [10.7, 'Hawaii'],\n",
       " [9.3, 'Idaho'],\n",
       " [8.9, 'Illinois'],\n",
       " [10.2, 'Indiana'],\n",
       " [7.8, 'Iowa'],\n",
       " [8.8, 'Kansas'],\n",
       " [11.6, 'Kentucky'],\n",
       " [8.3, 'Louisiana'],\n",
       " [12.2, 'Maine'],\n",
       " [9.4, 'Maryland'],\n",
       " [10.3, 'Massachusetts'],\n",
       " [10.9, 'Michigan'],\n",
       " [7.6, 'Minnesota'],\n",
       " [8.0, 'Mississippi'],\n",
       " [9.9, 'Missouri'],\n",
       " [8.5, 'Montana'],\n",
       " [8.3, 'Nebraska'],\n",
       " [7.9, 'Nevada'],\n",
       " [11.4, 'New Hampshire'],\n",
       " [8.2, 'New Jersey'],\n",
       " [11.8, 'New Mexico'],\n",
       " [9.5, 'New York'],\n",
       " [8.0, 'North Carolina'],\n",
       " [9.0, 'North Dakota'],\n",
       " [9.7, 'Ohio'],\n",
       " [10.0, 'Oklahoma'],\n",
       " [10.5, 'Oregon'],\n",
       " [10.6, 'Pennsylvania'],\n",
       " [10.7, 'Rhode Island'],\n",
       " [8.8, 'South Carolina'],\n",
       " [6.2, 'South Dakota'],\n",
       " [10.9, 'Tennessee'],\n",
       " [7.6, 'Texas'],\n",
       " [8.2, 'Utah'],\n",
       " [10.2, 'Vermont'],\n",
       " [8.6, 'Virginia'],\n",
       " [9.6, 'Washington'],\n",
       " [11.8, 'West Virginia'],\n",
       " [8.5, 'Wisconsin'],\n",
       " [9.5, 'Wyoming'],\n",
       " [5.1, 'Guam'],\n",
       " [10.7, 'Puerto Rico'],\n",
       " [6.3, 'Virgin Islands']]"
      ]
     },
     "execution_count": 86,
     "metadata": {},
     "output_type": "execute_result"
    }
   ],
   "source": [
    "# Your code here (create additional cells as needed)\n",
    "df_filtered_voi = df_filtered[['DataValue', 'LocationDesc']]\n",
    "df_filtered_voi = df_filtered_voi.astype({'DataValue': float})\n",
    "\n",
    "filtered_voi = df_filtered_voi.values.tolist()\n",
    "filtered_voi\n"
   ]
  },
  {
   "cell_type": "markdown",
   "metadata": {},
   "source": [
    "## Find Top 10 States\n",
    "\n",
    "Sort by `'DataValue'` and limit to the first 10 records."
   ]
  },
  {
   "cell_type": "code",
   "execution_count": 95,
   "metadata": {},
   "outputs": [
    {
     "data": {
      "text/plain": [
       "[[10.7, 'Hawaii'],\n",
       " [10.7, 'Puerto Rico'],\n",
       " [10.7, 'Rhode Island'],\n",
       " [10.9, 'Michigan'],\n",
       " [10.9, 'Tennessee'],\n",
       " [11.4, 'New Hampshire'],\n",
       " [11.6, 'Kentucky'],\n",
       " [11.8, 'New Mexico'],\n",
       " [11.8, 'West Virginia'],\n",
       " [12.2, 'Maine']]"
      ]
     },
     "execution_count": 95,
     "metadata": {},
     "output_type": "execute_result"
    }
   ],
   "source": [
    "# Your code here (add additional cells as needed)\n",
    "top10 = sorted(filtered_voi)[-10:]\n",
    "\n",
    "top10\n"
   ]
  },
  {
   "cell_type": "markdown",
   "metadata": {},
   "source": [
    "## Separate the Names and Values for Plotting\n",
    "\n",
    "Assign the names of the top 10 states to a list-like variable `names`, and the associated values to a list-like variable `values`. Then the plotting code below should work correctly to make the desired bar graph."
   ]
  },
  {
   "cell_type": "code",
   "execution_count": 98,
   "metadata": {},
   "outputs": [
    {
     "data": {
      "text/plain": [
       "[10.7, 10.7, 10.7, 10.9, 10.9, 11.4, 11.6, 11.8, 11.8, 12.2]"
      ]
     },
     "execution_count": 98,
     "metadata": {},
     "output_type": "execute_result"
    }
   ],
   "source": [
    "# Replace None with appropriate code\n",
    "\n",
    "names = []\n",
    "values = []\n",
    "\n",
    "for i, j in top10:\n",
    "    names.append(j)\n",
    "    values.append(i)\n"
   ]
  },
  {
   "cell_type": "code",
   "execution_count": 99,
   "metadata": {},
   "outputs": [
    {
     "data": {
      "image/png": "[encoded data removed]",
      "text/plain": [
       "<Figure size 432x288 with 1 Axes>"
      ]
     },
     "metadata": {
      "needs_background": "light"
     },
     "output_type": "display_data"
    }
   ],
   "source": [
    "# Run this cell without changes\n",
    "\n",
    "import matplotlib.pyplot as plt\n",
    "fig, ax = plt.subplots()\n",
    "\n",
    "ax.barh(names[::-1], values[::-1]) # Values inverted so highest is at top\n",
    "ax.set_title('Adult Asthma Rates by State in 2016')\n",
    "ax.set_xlabel('Percent 18+ with Asthma');"
   ]
  },
  {
   "cell_type": "markdown",
   "metadata": {},
   "source": [
    "## Summary\n",
    "\n",
    "Well done! In this lab you got some extended practice exploring the structure of JSON files and visualizing data!"
   ]
  },
  {
   "cell_type": "code",
   "execution_count": null,
   "metadata": {},
   "outputs": [],
   "source": []
  }
 ],
 "metadata": {
  "kernelspec": {
   "display_name": "Python 3 (ipykernel)",
   "language": "python",
   "name": "python3"
  },
  "language_info": {
   "codemirror_mode": {
    "name": "ipython",
    "version": 3
   },
   "file_extension": ".py",
   "mimetype": "text/x-python",
   "name": "python",
   "nbconvert_exporter": "python",
   "pygments_lexer": "ipython3",
   "version": "3.9.12"
  },
  "toc": {
   "base_numbering": 1,
   "nav_menu": {},
   "number_sections": true,
   "sideBar": true,
   "skip_h1_title": false,
   "title_cell": "Table of Contents",
   "title_sidebar": "Contents",
   "toc_cell": false,
   "toc_position": {},
   "toc_section_display": true,
   "toc_window_display": false
  }
 },
 "nbformat": 4,
 "nbformat_minor": 2
}
